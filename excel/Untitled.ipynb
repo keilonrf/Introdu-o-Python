{
 "cells": [
  {
   "cell_type": "code",
   "execution_count": 22,
   "id": "38f94248",
   "metadata": {},
   "outputs": [],
   "source": [
    "from openpyxl import Workbook\n",
    "orcamento = Workbook()"
   ]
  },
  {
   "cell_type": "code",
   "execution_count": 23,
   "id": "9c251c4e",
   "metadata": {},
   "outputs": [],
   "source": [
    "Novembro = orcamento.active"
   ]
  },
  {
   "cell_type": "code",
   "execution_count": 24,
   "id": "0e0ff08a",
   "metadata": {},
   "outputs": [],
   "source": [
    "Novembro[\"A1\"] = \"Contas\""
   ]
  },
  {
   "cell_type": "code",
   "execution_count": 25,
   "id": "893f66df",
   "metadata": {},
   "outputs": [],
   "source": [
    "Novembro[\"B1\"] = \"Receitas\""
   ]
  },
  {
   "cell_type": "code",
   "execution_count": 26,
   "id": "cc80ede5",
   "metadata": {},
   "outputs": [],
   "source": [
    "Novembro[\"C1\"] = \"Despesas\"\n",
    "Novembro[\"D1\"] = \"Resultados\""
   ]
  },
  {
   "cell_type": "code",
   "execution_count": 27,
   "id": "c18f6f37",
   "metadata": {},
   "outputs": [],
   "source": [
    "Novembro[\"A2\"] = \"Alimentação\"\n",
    "Novembro[\"A3\"] = \"Energia\"\n",
    "Novembro[\"A4\"] = \"Transporte\""
   ]
  },
  {
   "cell_type": "code",
   "execution_count": 9,
   "id": "8cf7e141",
   "metadata": {},
   "outputs": [],
   "source": []
  },
  {
   "cell_type": "code",
   "execution_count": 28,
   "id": "9dc83c1e",
   "metadata": {},
   "outputs": [],
   "source": [
    "#Novembro[\"A2\"] = valores[0]\n",
    "Novembro[\"B2\"] = 3000\n",
    "Novembro[\"C2\"] = 200\n",
    "Novembro[\"C3\"] = 100\n",
    "Novembro[\"C4\"] = 400\n",
    "Novembro[\"D2\"] = Novembro[\"B2\"].value - (Novembro[\"C2\"].value + Novembro[\"C3\"].value + Novembro[\"C4\"].value)"
   ]
  },
  {
   "cell_type": "code",
   "execution_count": 12,
   "id": "6f63810a",
   "metadata": {},
   "outputs": [
    {
     "data": {
      "text/plain": [
       "2300"
      ]
     },
     "execution_count": 12,
     "metadata": {},
     "output_type": "execute_result"
    }
   ],
   "source": [
    "Novembro[\"D2\"].value"
   ]
  },
  {
   "cell_type": "code",
   "execution_count": 29,
   "id": "ac5a88e5",
   "metadata": {},
   "outputs": [],
   "source": [
    "orcamento.save(\"orcamento.xlsx\")"
   ]
  },
  {
   "cell_type": "code",
   "execution_count": null,
   "id": "c9b6db56",
   "metadata": {},
   "outputs": [],
   "source": []
  }
 ],
 "metadata": {
  "kernelspec": {
   "display_name": "Python 3 (ipykernel)",
   "language": "python",
   "name": "python3"
  },
  "language_info": {
   "codemirror_mode": {
    "name": "ipython",
    "version": 3
   },
   "file_extension": ".py",
   "mimetype": "text/x-python",
   "name": "python",
   "nbconvert_exporter": "python",
   "pygments_lexer": "ipython3",
   "version": "3.9.15"
  }
 },
 "nbformat": 4,
 "nbformat_minor": 5
}
